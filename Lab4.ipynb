{
  "nbformat": 4,
  "nbformat_minor": 0,
  "metadata": {
    "colab": {
      "provenance": [],
      "authorship_tag": "ABX9TyM6lhEydxgEY7T4Whu83Vmg",
      "include_colab_link": true
    },
    "kernelspec": {
      "name": "python3",
      "display_name": "Python 3"
    },
    "language_info": {
      "name": "python"
    }
  },
  "cells": [
    {
      "cell_type": "markdown",
      "metadata": {
        "id": "view-in-github",
        "colab_type": "text"
      },
      "source": [
        "<a href=\"https://colab.research.google.com/github/gkosuri/Assingments/blob/main/Lab4.ipynb\" target=\"_parent\"><img src=\"https://colab.research.google.com/assets/colab-badge.svg\" alt=\"Open In Colab\"/></a>"
      ]
    },
    {
      "cell_type": "code",
      "execution_count": 1,
      "metadata": {
        "colab": {
          "base_uri": "https://localhost:8080/"
        },
        "id": "LI-ktUBkGdAk",
        "outputId": "771ab3e3-2130-45f1-a287-72ae5fc3b8b8"
      },
      "outputs": [
        {
          "output_type": "stream",
          "name": "stdout",
          "text": [
            "28\n"
          ]
        }
      ],
      "source": [
        "a = 28\n",
        "print(a)\n"
      ]
    },
    {
      "cell_type": "code",
      "source": [
        "print(\"greeshu\")"
      ],
      "metadata": {
        "colab": {
          "base_uri": "https://localhost:8080/"
        },
        "id": "FcwIQYEzHBep",
        "outputId": "b13aecca-990a-4e6d-dbb9-668e45de1dd4"
      },
      "execution_count": 2,
      "outputs": [
        {
          "output_type": "stream",
          "name": "stdout",
          "text": [
            "greeshu\n"
          ]
        }
      ]
    },
    {
      "cell_type": "code",
      "source": [
        "a = 28\n",
        "b = 29\n",
        "c = 3\n",
        "d = a+b+c\n",
        "print(d)"
      ],
      "metadata": {
        "colab": {
          "base_uri": "https://localhost:8080/"
        },
        "id": "utQe_0VIIv0N",
        "outputId": "c735c0ae-494f-44c7-c548-beff58ffa497"
      },
      "execution_count": 3,
      "outputs": [
        {
          "output_type": "stream",
          "name": "stdout",
          "text": [
            "60\n"
          ]
        }
      ]
    },
    {
      "cell_type": "code",
      "source": [
        "perimeter = 2 * (2.8+2.9)\n",
        "print(2 * (2.8+2.9))\n",
        "\n",
        "\n"
      ],
      "metadata": {
        "colab": {
          "base_uri": "https://localhost:8080/"
        },
        "id": "0Aq3wTgtI681",
        "outputId": "ab50df11-c152-4b79-d653-d6e549296d8d"
      },
      "execution_count": 4,
      "outputs": [
        {
          "output_type": "stream",
          "name": "stdout",
          "text": [
            "11.399999999999999\n"
          ]
        }
      ]
    },
    {
      "cell_type": "code",
      "source": [
        "# perimeter of a rectangle\n",
        "perimeter = 2 * (10 + 22.2)\n",
        "print(2 * (10+22.2))"
      ],
      "metadata": {
        "colab": {
          "base_uri": "https://localhost:8080/"
        },
        "id": "6KEe9LGkXQQR",
        "outputId": "7a72b81a-9c0c-41b8-9e35-c1a788178996"
      },
      "execution_count": 21,
      "outputs": [
        {
          "output_type": "stream",
          "name": "stdout",
          "text": [
            "64.4\n"
          ]
        }
      ]
    },
    {
      "cell_type": "code",
      "source": [
        "print(' cost = ' + str(28 * 2.9))\n"
      ],
      "metadata": {
        "colab": {
          "base_uri": "https://localhost:8080/"
        },
        "id": "2gPW3dilM1NV",
        "outputId": "d286383c-cf38-4785-a68b-c8b9efdbcf10"
      },
      "execution_count": 5,
      "outputs": [
        {
          "output_type": "stream",
          "name": "stdout",
          "text": [
            " cost = 81.2\n"
          ]
        }
      ]
    },
    {
      "cell_type": "code",
      "source": [
        "print(' cost = ' + 'good')"
      ],
      "metadata": {
        "colab": {
          "base_uri": "https://localhost:8080/"
        },
        "id": "UNqu-4AbNmis",
        "outputId": "c9c9d2a8-4036-4103-bc74-265a4dbc2ec3"
      },
      "execution_count": 6,
      "outputs": [
        {
          "output_type": "stream",
          "name": "stdout",
          "text": [
            " cost = good\n"
          ]
        }
      ]
    },
    {
      "cell_type": "code",
      "source": [
        "greeshu = 29\n",
        "nandu = 21\n",
        "print(greeshu+nandu)"
      ],
      "metadata": {
        "colab": {
          "base_uri": "https://localhost:8080/"
        },
        "id": "1yKfdkWZN817",
        "outputId": "c591d3d4-876a-4340-88b3-cf0b7ac351bd"
      },
      "execution_count": 7,
      "outputs": [
        {
          "output_type": "stream",
          "name": "stdout",
          "text": [
            "50\n"
          ]
        }
      ]
    },
    {
      "cell_type": "code",
      "source": [
        "# program to calculate and dsiplay the sales tax on product\n",
        "print('*** product tax check ***')\n",
        "price = 282.9\n",
        "taxRate = 12.1\n",
        "tax = price * taxRate/100\n",
        "print('The amount of tax = '+ str(tax))\n"
      ],
      "metadata": {
        "colab": {
          "base_uri": "https://localhost:8080/"
        },
        "id": "gLmlLB41OPqb",
        "outputId": "38241787-72fe-470c-8755-ffac5b213f2e"
      },
      "execution_count": 8,
      "outputs": [
        {
          "output_type": "stream",
          "name": "stdout",
          "text": [
            "*** product tax check ***\n",
            "The amount of tax = 34.2309\n"
          ]
        }
      ]
    },
    {
      "cell_type": "code",
      "source": [
        "print('*** product tax check ***')\n",
        "price = 282.9\n",
        "taxRate = 12.1\n",
        "tax = price * taxRate/100\n",
        "print('1. tax = ' + str(tax))\n",
        "print('2. error = ' +tax)"
      ],
      "metadata": {
        "colab": {
          "base_uri": "https://localhost:8080/",
          "height": 247
        },
        "id": "-gPA4Ba_PWmJ",
        "outputId": "a5319ed6-934e-4547-87ac-8986b58016fe"
      },
      "execution_count": 11,
      "outputs": [
        {
          "output_type": "stream",
          "name": "stdout",
          "text": [
            "*** product tax check ***\n",
            "1. tax = 34.2309\n"
          ]
        },
        {
          "output_type": "error",
          "ename": "TypeError",
          "evalue": "ignored",
          "traceback": [
            "\u001b[0;31m---------------------------------------------------------------------------\u001b[0m",
            "\u001b[0;31mTypeError\u001b[0m                                 Traceback (most recent call last)",
            "\u001b[0;32m<ipython-input-11-0500d8516525>\u001b[0m in \u001b[0;36m<cell line: 6>\u001b[0;34m()\u001b[0m\n\u001b[1;32m      4\u001b[0m \u001b[0mtax\u001b[0m \u001b[0;34m=\u001b[0m \u001b[0mprice\u001b[0m \u001b[0;34m*\u001b[0m \u001b[0mtaxRate\u001b[0m\u001b[0;34m/\u001b[0m\u001b[0;36m100\u001b[0m\u001b[0;34m\u001b[0m\u001b[0;34m\u001b[0m\u001b[0m\n\u001b[1;32m      5\u001b[0m \u001b[0mprint\u001b[0m\u001b[0;34m(\u001b[0m\u001b[0;34m'1. tax = '\u001b[0m \u001b[0;34m+\u001b[0m \u001b[0mstr\u001b[0m\u001b[0;34m(\u001b[0m\u001b[0mtax\u001b[0m\u001b[0;34m)\u001b[0m\u001b[0;34m)\u001b[0m\u001b[0;34m\u001b[0m\u001b[0;34m\u001b[0m\u001b[0m\n\u001b[0;32m----> 6\u001b[0;31m \u001b[0mprint\u001b[0m\u001b[0;34m(\u001b[0m\u001b[0;34m'2. error = '\u001b[0m \u001b[0;34m+\u001b[0m\u001b[0mtax\u001b[0m\u001b[0;34m)\u001b[0m\u001b[0;34m\u001b[0m\u001b[0;34m\u001b[0m\u001b[0m\n\u001b[0m",
            "\u001b[0;31mTypeError\u001b[0m: can only concatenate str (not \"float\") to str"
          ]
        }
      ]
    },
    {
      "cell_type": "code",
      "source": [
        "myName = input()\n",
        "print('what is your name?')\n",
        "myname = input()\n",
        "myname = input('what is your name?')"
      ],
      "metadata": {
        "colab": {
          "base_uri": "https://localhost:8080/"
        },
        "id": "Vj-cT_JfQMhn",
        "outputId": "fcaef562-d78d-4a1c-edeb-21ecb63bcd70"
      },
      "execution_count": 12,
      "outputs": [
        {
          "name": "stdout",
          "output_type": "stream",
          "text": [
            "Greeshu\n",
            "what is youer name?\n",
            "Greeshu\n",
            "what is your name?Tej\n"
          ]
        }
      ]
    },
    {
      "cell_type": "code",
      "source": [
        "myname = str(input('Enter your name: '))\n",
        "dob = int(input('Give your input as your birthday:'))\n",
        "print('I am printing what is inside the variable ', myname, 'dob', dob )"
      ],
      "metadata": {
        "colab": {
          "base_uri": "https://localhost:8080/"
        },
        "id": "IBzJz7RVSU8y",
        "outputId": "7f8a8137-1a1d-4ed4-db48-7465aabb8911"
      },
      "execution_count": 18,
      "outputs": [
        {
          "output_type": "stream",
          "name": "stdout",
          "text": [
            "Enter your name: Greeshu\n",
            "Give your input as your birthday:2000\n",
            "I am printing what is inside the variable  Greeshu dob 2000\n"
          ]
        }
      ]
    },
    {
      "cell_type": "code",
      "source": [
        "myname = input('What is your name?')\n",
        "print('Hello ' + myname)\n",
        "print()\n",
        "age = input('How old are you? ')\n",
        "print('when I was ' +age + ' I was older than you!')"
      ],
      "metadata": {
        "colab": {
          "base_uri": "https://localhost:8080/"
        },
        "id": "kKH_ARiEVRcd",
        "outputId": "248920fa-93aa-45f6-a4b3-c4ac174ad954"
      },
      "execution_count": 20,
      "outputs": [
        {
          "output_type": "stream",
          "name": "stdout",
          "text": [
            "What is your name?Greesh\n",
            "Hello Greesh\n",
            "\n",
            "How old are you? 22\n",
            "when I was 22 I was older than you!\n"
          ]
        }
      ]
    },
    {
      "cell_type": "code",
      "source": [
        "#perimeter of a rectangle\n",
        "perimeter = 2 * (10 + 22.2)\n",
        "print(2 * (10+22.2))"
      ],
      "metadata": {
        "colab": {
          "base_uri": "https://localhost:8080/"
        },
        "id": "hD2SG-Vyb9UA",
        "outputId": "df42c1bc-a735-46e9-f855-db03e787b913"
      },
      "execution_count": 28,
      "outputs": [
        {
          "output_type": "stream",
          "name": "stdout",
          "text": [
            "64.4\n"
          ]
        }
      ]
    },
    {
      "cell_type": "code",
      "source": [
        "length = float (input('what is the length? '))\n",
        "height = float (input('what is the height? '))\n",
        "area = length*height\n",
        "print(area)"
      ],
      "metadata": {
        "colab": {
          "base_uri": "https://localhost:8080/"
        },
        "id": "SHErBrpuWhlr",
        "outputId": "440a177f-0ce8-4def-ee4d-adfeb9451e4a"
      },
      "execution_count": 26,
      "outputs": [
        {
          "output_type": "stream",
          "name": "stdout",
          "text": [
            "what is the length? 5\n",
            "what is the height? 2\n",
            "10.0\n"
          ]
        }
      ]
    }
  ]
}