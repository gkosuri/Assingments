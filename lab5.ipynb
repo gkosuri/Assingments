{
  "nbformat": 4,
  "nbformat_minor": 0,
  "metadata": {
    "colab": {
      "provenance": [],
      "authorship_tag": "ABX9TyPonzSeMTnpLGWVfU4+NEyn",
      "include_colab_link": true
    },
    "kernelspec": {
      "name": "python3",
      "display_name": "Python 3"
    },
    "language_info": {
      "name": "python"
    }
  },
  "cells": [
    {
      "cell_type": "markdown",
      "metadata": {
        "id": "view-in-github",
        "colab_type": "text"
      },
      "source": [
        "<a href=\"https://colab.research.google.com/github/gkosuri/Assingments/blob/main/lab5.ipynb\" target=\"_parent\"><img src=\"https://colab.research.google.com/assets/colab-badge.svg\" alt=\"Open In Colab\"/></a>"
      ]
    },
    {
      "cell_type": "code",
      "execution_count": null,
      "metadata": {
        "colab": {
          "base_uri": "https://localhost:8080/"
        },
        "id": "-YrciNiiep0o",
        "outputId": "c8663ddf-95d1-46ee-c682-1307b8e25960"
      },
      "outputs": [
        {
          "output_type": "stream",
          "name": "stdout",
          "text": [
            "What is your name?Greesh\n",
            "HelloGreesh\n",
            "\n",
            "How old are you?22\n",
            "when I was your age I was23\n"
          ]
        }
      ],
      "source": [
        "myname = input('What is your name?')\n",
        "print('Hello' + myname)\n",
        "print()\n",
        "age = int(input('How old are you?'))\n",
        "age = age+1\n",
        "print('when I was your age I was' + str(age))"
      ]
    },
    {
      "cell_type": "code",
      "source": [
        "print('*** product tax check ***')\n",
        "price = float(input('Enter initial price:'))"
      ],
      "metadata": {
        "colab": {
          "base_uri": "https://localhost:8080/"
        },
        "id": "NwxNMni6hq5F",
        "outputId": "50075ca8-31d8-43cf-dbbf-141ec5d9060a"
      },
      "execution_count": null,
      "outputs": [
        {
          "name": "stdout",
          "output_type": "stream",
          "text": [
            "*** product tax check ***\n",
            "Enter initial price:28.5\n"
          ]
        }
      ]
    },
    {
      "cell_type": "code",
      "source": [
        "print('*** product tax check ***')\n",
        "price = float(input('Enter initial price:'))\n",
        "taxrate = float(input('Enter tax rate:'))\n",
        "tax = price * taxrate/100\n",
        "print('The amount of tax =' + str(tax))"
      ],
      "metadata": {
        "colab": {
          "base_uri": "https://localhost:8080/"
        },
        "id": "ztOR4oKJi6KF",
        "outputId": "9247bb42-6681-4910-affd-49ac851c8f8a"
      },
      "execution_count": 14,
      "outputs": [
        {
          "output_type": "stream",
          "name": "stdout",
          "text": [
            "*** product tax check ***\n",
            "Enter initial price:28\n",
            "Enter tax rate:29\n",
            "The amount of tax =8.12\n"
          ]
        }
      ]
    },
    {
      "cell_type": "code",
      "source": [
        "num1 = str(input('Enter the first number:'))\n",
        "num2 = str(input('Enter the second number:'))\n",
        "print(f\"{num1} + {num2}\")"
      ],
      "metadata": {
        "colab": {
          "base_uri": "https://localhost:8080/"
        },
        "id": "9s_Ls_CQkQ1O",
        "outputId": "f1fa3584-e512-423e-a272-d809470775d8"
      },
      "execution_count": null,
      "outputs": [
        {
          "output_type": "stream",
          "name": "stdout",
          "text": [
            "Enter the first number:123\n",
            "Enter the second number:289\n",
            "123 + 289\n"
          ]
        }
      ]
    },
    {
      "cell_type": "code",
      "source": [
        "print('*** product tax check for 2 items ***')\n",
        "price1 = float(input('Enter price of first item:'))\n",
        "price2 = float(input('Enter price of second item:'))\n",
        "taxrate = float(input('Enter tax rate:'))\n",
        "taxtotal = price1 + price2 * taxrate/100\n",
        "print('The amount of tax =' + str(tax))"
      ],
      "metadata": {
        "id": "ZWgae5qPmJA_",
        "colab": {
          "base_uri": "https://localhost:8080/"
        },
        "outputId": "1b3f6bba-adca-4b35-b84b-308c2fae5175"
      },
      "execution_count": 13,
      "outputs": [
        {
          "output_type": "stream",
          "name": "stdout",
          "text": [
            "*** product tax check for 2 items ***\n",
            "Enter price of first item:2\n",
            "Enter price of second item:8\n",
            "Enter tax rate:9\n",
            "The amount of tax =8.265\n"
          ]
        }
      ]
    },
    {
      "cell_type": "code",
      "source": [],
      "metadata": {
        "id": "1KRHPR6FqoO3"
      },
      "execution_count": null,
      "outputs": []
    }
  ]
}